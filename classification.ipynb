{
 "cells": [
  {
   "cell_type": "markdown",
   "metadata": {},
   "source": [
    "**CLASSIFICATION**\n",
    "\n",
    "Welcome dear reader. In this jupyter-notebook, you will meet the classification of nothing less but glass. Have you ever wondered about how a computer would classify your bedroom window? Wonder no more!"
   ]
  },
  {
   "cell_type": "code",
   "execution_count": 10,
   "metadata": {},
   "outputs": [],
   "source": [
    "# imports\n",
    "import matplotlib.pyplot as plt\n",
    "import numpy as np\n",
    "from scipy.io import loadmat\n",
    "from sklearn.model_selection import train_test_split\n",
    "from sklearn.linear_model import LogisticRegression\n",
    "from toolbox_02450 import rocplot, confmatplot\n",
    "import pandas as pd\n",
    "from sklearn import model_selection\n",
    "import torch\n",
    "import time\n",
    "\n",
    "font_size = 15\n",
    "plt.rcParams.update({'font.size': font_size})"
   ]
  },
  {
   "cell_type": "code",
   "execution_count": 11,
   "metadata": {},
   "outputs": [],
   "source": [
    "# loading data\n",
    "filename = 'data/glass.csv'\n",
    "df = pd.read_csv(filename)\n",
    "\n",
    "# defining x and y for the linear regression\n",
    "#       all attributes except RI\n",
    "X = np.array(df.iloc[:,1:10])\n",
    "#       number of attributes\n",
    "M = 9\n",
    "#       type\n",
    "y = np.array(df.iloc[:,10])"
   ]
  },
  {
   "cell_type": "code",
   "execution_count": 12,
   "metadata": {},
   "outputs": [
    {
     "name": "stdout",
     "output_type": "stream",
     "text": [
      "[1 1 1 1 1 1 1 1 1 1 1 1 1 1 1 1 1 1 1 1 1 1 1 1 1 1 1 1 1 1 1 1 1 1 1 1 1\n",
      " 1 1 1 1 1 1 1 1 1 1 1 1 1 1 1 1 1 1 1 1 1 1 1 1 1 1 1 1 1 1 1 1 1 2 2 2 2\n",
      " 2 2 2 2 2 2 2 2 2 2 2 2 2 2 2 2 2 2 2 2 2 2 2 2 2 2 2 2 2 2 2 2 2 2 2 2 2\n",
      " 2 2 2 2 2 2 2 2 2 2 2 2 2 2 2 2 2 2 2 2 2 2 2 2 2 2 2 2 2 2 2 2 2 2 2 3 3\n",
      " 3 3 3 3 3 3 3 3 3 3 3 3 3 3 3 5 5 5 5 5 5 5 5 5 5 5 5 5 6 6 6 6 6 6 6 6 6\n",
      " 7 7 7 7 7 7 7 7 7 7 7 7 7 7 7 7 7 7 7 7 7 7 7 7 7 7 7 7 7]\n",
      "[0 0 0 0 0 0 0 0 0 0 0 0 0 0 0 0 0 0 0 0 0 0 0 0 0 0 0 0 0 0 0 0 0 0 0 0 0\n",
      " 0 0 0 0 0 0 0 0 0 0 0 0 0 0 0 0 0 0 0 0 0 0 0 0 0 0 0 0 0 0 0 0 0 1 1 1 1\n",
      " 1 1 1 1 1 1 1 1 1 1 1 1 1 1 1 1 1 1 1 1 1 1 1 1 1 1 1 1 1 1 1 1 1 1 1 1 1\n",
      " 1 1 1 1 1 1 1 1 1 1 1 1 1 1 1 1 1 1 1 1 1 1 1 1 1 1 1 1 1 1 1 1 1 1 1 2 2\n",
      " 2 2 2 2 2 2 2 2 2 2 2 2 2 2 2 3 3 3 3 3 3 3 3 3 3 3 3 3 4 4 4 4 4 4 4 4 4\n",
      " 5 5 5 5 5 5 5 5 5 5 5 5 5 5 5 5 5 5 5 5 5 5 5 5 5 5 5 5 5]\n"
     ]
    }
   ],
   "source": [
    "# the format of C needs to be this, so it is usable with torch, see before and after:\n",
    "print(y)\n",
    "y[y>3] = y[y>3] - 1\n",
    "y = y - 1\n",
    "print(y)"
   ]
  },
  {
   "cell_type": "code",
   "execution_count": 39,
   "metadata": {},
   "outputs": [
    {
     "name": "stdout",
     "output_type": "stream",
     "text": [
      "outer_loop: 1/10. inner_loop: 2/10.  Time pr. iteration: 28 sec. Estimated time left: 47 min.\r"
     ]
    },
    {
     "name": "stderr",
     "output_type": "stream",
     "text": [
      "/Users/nikolaj/opt/anaconda3/envs/AndSem/lib/python3.8/site-packages/sklearn/utils/optimize.py:210: ConvergenceWarning: newton-cg failed to converge. Increase the number of iterations.\n",
      "  warnings.warn(\n"
     ]
    },
    {
     "name": "stdout",
     "output_type": "stream",
     "text": [
      "outer_loop: 1/10. inner_loop: 3/10.  Time pr. iteration: 31 sec. Estimated time left: 51 min.\r"
     ]
    },
    {
     "name": "stderr",
     "output_type": "stream",
     "text": [
      "/Users/nikolaj/opt/anaconda3/envs/AndSem/lib/python3.8/site-packages/sklearn/utils/optimize.py:210: ConvergenceWarning: newton-cg failed to converge. Increase the number of iterations.\n",
      "  warnings.warn(\n"
     ]
    },
    {
     "name": "stdout",
     "output_type": "stream",
     "text": [
      "outer_loop: 1/10. inner_loop: 6/10.  Time pr. iteration: 31 sec. Estimated time left: 49 min.\r"
     ]
    },
    {
     "name": "stderr",
     "output_type": "stream",
     "text": [
      "/Users/nikolaj/opt/anaconda3/envs/AndSem/lib/python3.8/site-packages/sklearn/utils/optimize.py:210: ConvergenceWarning: newton-cg failed to converge. Increase the number of iterations.\n",
      "  warnings.warn(\n"
     ]
    },
    {
     "name": "stdout",
     "output_type": "stream",
     "text": [
      "outer_loop: 1/10. inner_loop: 7/10.  Time pr. iteration: 80 sec. Estimated time left: 129 min.\r"
     ]
    },
    {
     "name": "stderr",
     "output_type": "stream",
     "text": [
      "/Users/nikolaj/opt/anaconda3/envs/AndSem/lib/python3.8/site-packages/sklearn/utils/optimize.py:210: ConvergenceWarning: newton-cg failed to converge. Increase the number of iterations.\n",
      "  warnings.warn(\n"
     ]
    },
    {
     "name": "stdout",
     "output_type": "stream",
     "text": [
      "outer_loop: 1/10. inner_loop: 9/10.  Time pr. iteration: 33 sec. Estimated time left: 49 min.\r"
     ]
    },
    {
     "name": "stderr",
     "output_type": "stream",
     "text": [
      "/Users/nikolaj/opt/anaconda3/envs/AndSem/lib/python3.8/site-packages/sklearn/utils/optimize.py:210: ConvergenceWarning: newton-cg failed to converge. Increase the number of iterations.\n",
      "  warnings.warn(\n"
     ]
    },
    {
     "name": "stdout",
     "output_type": "stream",
     "text": [
      "outer_loop: 6/10. inner_loop: 7/10.  Time pr. iteration: 84 sec. Estimated time left: 63 min...\r"
     ]
    },
    {
     "name": "stderr",
     "output_type": "stream",
     "text": [
      "/Users/nikolaj/opt/anaconda3/envs/AndSem/lib/python3.8/site-packages/sklearn/utils/optimize.py:210: ConvergenceWarning: newton-cg failed to converge. Increase the number of iterations.\n",
      "  warnings.warn(\n"
     ]
    },
    {
     "name": "stdout",
     "output_type": "stream",
     "text": [
      "outer_loop: 10/10. inner_loop: 10/10.  Time pr. iteration: 89 sec. Estimated time left: 4 min..\r"
     ]
    },
    {
     "name": "stderr",
     "output_type": "stream",
     "text": [
      "/Users/nikolaj/opt/anaconda3/envs/AndSem/lib/python3.8/site-packages/sklearn/utils/optimize.py:210: ConvergenceWarning: newton-cg failed to converge. Increase the number of iterations.\n",
      "  warnings.warn(\n",
      "/Users/nikolaj/opt/anaconda3/envs/AndSem/lib/python3.8/site-packages/sklearn/utils/optimize.py:210: ConvergenceWarning: newton-cg failed to converge. Increase the number of iterations.\n",
      "  warnings.warn(\n",
      "/Users/nikolaj/opt/anaconda3/envs/AndSem/lib/python3.8/site-packages/sklearn/linear_model/_logistic.py:814: ConvergenceWarning: lbfgs failed to converge (status=1):\n",
      "STOP: TOTAL NO. of ITERATIONS REACHED LIMIT.\n",
      "\n",
      "Increase the number of iterations (max_iter) or scale the data as shown in:\n",
      "    https://scikit-learn.org/stable/modules/preprocessing.html\n",
      "Please also refer to the documentation for alternative solver options:\n",
      "    https://scikit-learn.org/stable/modules/linear_model.html#logistic-regression\n",
      "  n_iter_i = _check_optimize_result(\n"
     ]
    }
   ],
   "source": [
    "# K = K_outer = K_inner\n",
    "K = 10\n",
    "CV_outer = model_selection.KFold(n_splits=K,shuffle=True)\n",
    "\n",
    "#* INIT FOR LOGISTIC REGRESSION\n",
    "# init for lambda-inner-loop\n",
    "lambda_interval = np.logspace(-8, 2, 10)\n",
    "\n",
    "\n",
    "#* INIT FOR STATISTICAL DATA\n",
    "n_list = np.zeros(10)\n",
    "mc_nemar = []\n",
    "variance = np.zeros(10)\n",
    "\n",
    "\n",
    "# init for error save\n",
    "log_train_error = np.zeros(10)\n",
    "log_test_error = np.zeros(10)\n",
    "\n",
    "opt_lambda = np.zeros(10)\n",
    "#coefficient_norm = np.zeros(len(lambda_interval))\n",
    "\n",
    "\n",
    "#* INIT FOR BASE-LINE\n",
    "base_line_train_err = np.zeros(10)\n",
    "base_line_test_err = np.zeros(10)\n",
    "\n",
    "#* INIT FOR ANN-CLASSIFICATION\n",
    "max_iter = 10000\n",
    "tolerance = 1e-6\n",
    "logging_frequency = 1000\n",
    "best_final_loss = 1e100\n",
    "n_replicates = 1\n",
    "ANN_error_test = np.zeros(K)\n",
    "ANN_error_train = np.zeros(K)\n",
    "\n",
    "h = [i for i in range(1,11)]\n",
    "\n",
    "C = len(np.unique(y))\n",
    "\n",
    "opt_h = np.zeros(10)\n",
    "\n",
    "\n",
    "# init for time taking OPTIONAL\n",
    "\n",
    "time_after_print = 0\n",
    "time_elapsed = 0\n",
    "#* OUTER LOOP\n",
    "for m, (train_index, test_index) in enumerate(CV_outer.split(X,y)):\n",
    "    X_train, X_test = X[train_index, :], X[test_index, :]\n",
    "    y_train, y_test = y[train_index], y[test_index]\n",
    "\n",
    "    n_list[m] = len(y_test)\n",
    "\n",
    "    # TODO: CHECK IF THIS STANDARDIZATION IS CORRECT.\n",
    "    mu = np.mean(X_train, axis=0)\n",
    "    sigma = np.std(X_train, axis = 0)\n",
    "\n",
    "    X_train = (X_train - mu)/sigma\n",
    "    X_test = (X_test - mu)/sigma\n",
    "\n",
    "    #init for optimal h\n",
    "    h_error_train = np.zeros((K,len(h)))\n",
    "    h_error_test = np.zeros((K,len(h)))\n",
    "\n",
    "    #init for optimal lambda\n",
    "    lambda_error_train = np.zeros((K,len(lambda_interval)))\n",
    "    lambda_error_test = np.zeros((K,len(lambda_interval)))\n",
    "\n",
    "    #* INNER LOOP\n",
    "    ## ## GOAL: finding best lambda & finding best number of hidden neurons\n",
    "    CV_inner = model_selection.KFold(n_splits=K,shuffle=True)\n",
    "    for j, (train_index_inner, test_index_inner) in enumerate(CV_inner.split(X_train, y_train)):\n",
    "        # printing\n",
    "        \n",
    "        time_before_print = time.time()\n",
    "        time_difference = time_before_print - time_after_print\n",
    "        if (j == 0) & (m == 0):\n",
    "            time_difference = 0\n",
    "        time_elapsed += time_difference\n",
    "        \n",
    "        print(\"outer_loop: \" + str(m+1) + \"/10. inner_loop: \" + str(j+1) + \"/10.  Time pr. iteration: \" + str(round(time_difference)) + \\\n",
    "            \" sec. Estimated time left: \" + str(round((100*time_difference - time_elapsed)/60)) + str(\" min.\"),end='\\r')\n",
    "\n",
    "        time_after_print = time.time()\n",
    "\n",
    "\n",
    "\n",
    "\n",
    "\n",
    "        X_train_inner, X_test_inner = X_train[train_index_inner, :], X_train[test_index_inner, :]\n",
    "        y_train_inner, y_test_inner = y_train[train_index_inner], y_train[test_index_inner]\n",
    "\n",
    "        \n",
    "\n",
    "        ##########################\n",
    "        #* Finding the best lambda:\n",
    "        # iterate over hyperparameter lambda\n",
    "        for k in range(0, len(lambda_interval)):\n",
    "            #'newton-cg' gives better results\n",
    "            mdl = LogisticRegression(penalty='l2', solver='newton-cg', C=1/lambda_interval[k], max_iter=100)\n",
    "            # but the other is faster but outputs hella lot of warnings:\n",
    "            # mdl = LogisticRegression(penalty='l2', C=1/lambda_interval[k], max_iter=100)\n",
    "            \n",
    "            mdl.fit(X_train_inner, y_train_inner)\n",
    "\n",
    "            y_train_est_inner = mdl.predict(X_train_inner).T\n",
    "            y_test_est_inner = mdl.predict(X_test_inner).T\n",
    "            \n",
    "            lambda_error_train[j,k] = np.sum(y_train_est_inner != y_train_inner) / len(y_train_inner)\n",
    "            lambda_error_test[j,k] = np.sum(y_test_est_inner != y_test_inner) / len(y_test_inner)\n",
    "\n",
    "            # føler ikke det her skal bruges\n",
    "            #w_est = mdl.coef_[0] \n",
    "            #coefficient_norm[k] = np.sqrt(np.sum(w_est**2))\n",
    "\n",
    "\n",
    "        #* Finding the optimal amount of hidden layers:\n",
    "        X_train_inner, X_test_inner = torch.tensor(X_train_inner, dtype=torch.float), torch.tensor(X_test_inner, dtype=torch.float)\n",
    "        y_train_inner, y_test_inner = torch.tensor(y_train_inner), torch.tensor(y_test_inner)\n",
    "        # reshaping helps torch\n",
    "        #y_test_inner = torch.reshape(y_test_inner, (y_test_inner.shape[0],1))\n",
    "        #y_train_inner = torch.reshape(y_train_inner, (y_train_inner.shape[0],1))\n",
    "\n",
    "\n",
    "        # iterate over hyperparameter h\n",
    "        for p, hidden_value_ in enumerate(h):\n",
    "            # define the model for each hidden layer\n",
    "            model_inner = lambda: torch.nn.Sequential(\n",
    "                        torch.nn.Linear(M, hidden_value_), #M features to H hiden units\n",
    "                        # 1st transfer function, either Tanh or ReLU:\n",
    "                        #torch.nn.Tanh(),                            \n",
    "                        torch.nn.ReLU(),\n",
    "                        torch.nn.Linear(hidden_value_, C),\n",
    "                        torch.nn.Softmax(dim=1)) #softmax as we want classes\n",
    "\n",
    "            # loss function for multinomial classification\n",
    "            loss_fn = torch.nn.CrossEntropyLoss()\n",
    "\n",
    "\n",
    "            # Training the model\n",
    "            for r in range(n_replicates):\n",
    "                net_inner = model_inner()\n",
    "\n",
    "                torch.nn.init.xavier_uniform_(net_inner[0].weight)\n",
    "                torch.nn.init.xavier_uniform_(net_inner[2].weight)\n",
    "\n",
    "                optimizer = torch.optim.Adam(net_inner.parameters())\n",
    "\n",
    "                learning_curve = []\n",
    "                old_loss = 1e6\n",
    "                for i in range(max_iter):\n",
    "                    y_est = net_inner(X_train_inner)\n",
    "                    #y_class = torch.max(y_est, dim=1)[1]\n",
    "                    loss = loss_fn(y_est, y_train_inner)\n",
    "                    loss_value = loss.data.numpy()\n",
    "                    learning_curve.append(loss_value)\n",
    "\n",
    "\n",
    "                    p_delta_loss = np.abs(loss_value - old_loss)/old_loss\n",
    "                    if p_delta_loss < tolerance: break\n",
    "                    old_loss = loss_value\n",
    "\n",
    "\n",
    "                    #if (i != 0) & ((i+1) % logging_frequency == 0):\n",
    "                    #    print_str = '\\t\\t' + str(i+1) + '\\t' + str(loss_value) + '\\t' + str(p_delta_loss)\n",
    "                    #    print(print_str)\n",
    "                    optimizer.zero_grad(); loss.backward(); optimizer.step()\n",
    "\n",
    "\n",
    "            softmax_logits = net_inner(X_test_inner)\n",
    "            y_test_est = (torch.max(softmax_logits, dim=1)[1]).data.numpy() \n",
    "            h_error_test[j, p]  = np.sum(y_test_est != np.array(y_test_inner))/len(y_test_inner)\n",
    "\n",
    "\n",
    "\n",
    "    #* Optimal values found from inner loop\n",
    "    #  the smallesst of the means of the differnet lambdas\n",
    "    opt_lambda[m] = lambda_interval[np.argmin(np.mean(lambda_error_test,axis=0))]\n",
    "    \n",
    "    opt_h[m] = h[np.argmin(np.mean(h_error_test, axis = 0))]\n",
    "\n",
    "\n",
    "    #* CLASSIFICATION\n",
    "    ##########################\n",
    "    ## BASELINE\n",
    "    # find out which class has the highest count\n",
    "    big_class = np.argmax([np.count_nonzero(y_train == i) for i in range(1,7)])\n",
    "    # assign everything to this class (calculate error rate)\n",
    "    base_line_train_err[m] = np.sum(y_train != big_class)/len(y_train)\n",
    "    base_line_test_err[m] = np.sum(y_test != big_class)/len(y_test)\n",
    "\n",
    "\n",
    "    ##########################\n",
    "    ## Logistic Regression\n",
    "    log = LogisticRegression(penalty='l2', C=1/opt_lambda[m], max_iter=1000)\n",
    "    log.fit(X_train, y_train)\n",
    "    y_train_est = log.predict(X_train)\n",
    "    y_test_est_log = log.predict(X_test)\n",
    "\n",
    "    log_train_error[m] = np.sum(y_train_est != y_train)/len(y_train)\n",
    "    log_test_error[m] = np.sum(y_test_est_log != y_test)/len(y_test)\n",
    "\n",
    "    ##########################\n",
    "    ## ANN-Classification\n",
    "\n",
    "    model = lambda: torch.nn.Sequential(\n",
    "                    torch.nn.Linear(M, int(opt_h[m])), #M features to H hiden units\n",
    "                    # 1st transfer function, either Tanh or ReLU:\n",
    "                    #torch.nn.Tanh(),                            \n",
    "                    torch.nn.ReLU(),\n",
    "                    torch.nn.Linear(int(opt_h[m]),int(opt_h[m])),\n",
    "                    torch.nn.ReLU(),\n",
    "                    torch.nn.Linear(int(opt_h[m]), C), # H hidden units to 1 output neuron\n",
    "                    torch.nn.Softmax(dim=1) # final tranfer function\n",
    "                    )\n",
    "\n",
    "\n",
    "    X_train, y_train = torch.tensor(X_train, dtype = torch.float), torch.tensor(y_train)\n",
    "    X_test, y_test = torch.tensor(X_test, dtype = torch.float), torch.tensor(y_test)\n",
    "    n_replicates = 3\n",
    "    for r in range(n_replicates):\n",
    "        net = model()\n",
    "\n",
    "        torch.nn.init.xavier_uniform_(net[0].weight)\n",
    "        torch.nn.init.xavier_uniform_(net[2].weight)\n",
    "\n",
    "        optimizer = torch.optim.Adam(net.parameters())\n",
    "\n",
    "        learning_curve = []\n",
    "        old_loss = 1e6\n",
    "        for i in range(max_iter):\n",
    "            y_est = net(X_train)\n",
    "            #y_class = torch.max(y_est, dim=1)[1]\n",
    "            loss = loss_fn(y_est, y_train)\n",
    "            loss_value = loss.data.numpy()\n",
    "            learning_curve.append(loss_value)\n",
    "\n",
    "\n",
    "            p_delta_loss = np.abs(loss_value - old_loss)/old_loss\n",
    "            if p_delta_loss < tolerance: break\n",
    "            old_loss = loss_value\n",
    "\n",
    "\n",
    "            # if (i != 0) & ((i+1) % logging_frequency == 0):\n",
    "                #print_str = '\\t\\t' + str(i+1) + '\\t' + str(loss_value) + '\\t' + str(p_delta_loss)\n",
    "                ###print(print_str)\n",
    "            optimizer.zero_grad(); loss.backward(); optimizer.step()\n",
    "\n",
    "        \n",
    "\n",
    "        #print('\\t\\tFinal Loss:')\n",
    "        #print_str = '\\t\\t' + str(i+1) + '\\t' + str(loss_value) + '\\t' + str(p_delta_loss)\n",
    "        ##print(print_str)\n",
    "\n",
    "        if loss_value < best_final_loss:\n",
    "            best_net = net\n",
    "            best_final_loss = loss_value\n",
    "            best_learning_curve = learning_curve\n",
    "        \n",
    "    \n",
    "    softmax_logits = net(X_test)\n",
    "    y_test_est_ann = (torch.max(softmax_logits, dim=1)[1]).data.numpy() \n",
    "    ANN_error_test[m] = np.sum(y_test_est_ann != np.array(y_test))/len(y_test)\n",
    "\n",
    "    ## STATISTICAL DATA\n",
    "    ##MCNEMAR DATA\n",
    "    data = np.array([y_test, y_test_est_ann, y_test_est_ann, (y_test == big_class)])\n",
    "    mc_nemar.append(data)\n",
    "    #nvm ; variance[m] = np.var(x_test)\n",
    "    # (y_test)\n",
    "    # (y_test_est_ann)\n",
    "    # (y_test_est_log)\n",
    "    # (y_test == big_class)\n",
    "\n",
    "# WARNING: Inden du kligger på den flotte trekant.\n",
    "# Det tager cirka 145 min"
   ]
  },
  {
   "cell_type": "code",
   "execution_count": 42,
   "metadata": {},
   "outputs": [
    {
     "name": "stdout",
     "output_type": "stream",
     "text": [
      "Outer fold i    | h               E_ANN           lambda          E_log           E_base         \n",
      "-----------------------------------------------------------------------------------------\n",
      "1               | 9               0.455           0.599484        0.455           0.7272727      \n",
      "2               | 9               0.318           0.046416        0.318           0.5454545      \n",
      "3               | 7               0.227           0.599484        0.273           0.6363636      \n",
      "4               | 10              0.318           0.046416        0.318           0.8181818      \n",
      "5               | 10              0.238           0.599484        0.286           0.7142857      \n",
      "6               | 8               0.381           0.046416        0.381           0.7142857      \n",
      "7               | 8               0.381           0.046416        0.571           0.5714286      \n",
      "8               | 9               0.381           0.003594        0.333           0.6666667      \n",
      "9               | 10              0.476           0.046416        0.429           0.7142857      \n",
      "10              | 6               0.238           0.000022        0.571           0.6190476      \n"
     ]
    }
   ],
   "source": [
    "print(\"{:<15} | {:<15} {:<15} {:<15} {:<15} {:<15}\".format('Outer fold i', 'h', 'E_ANN', 'lambda', 'E_log', 'E_base'))\n",
    "print(\"-----------------------------------------------------------------------------------------\")\n",
    "for i in range(10):\n",
    "    print(\"{:<15} | {:<15} {:<15.3f} {:<15.6f} {:<15.3f} {:<15.7f}\".format(i+1, int(opt_h[i]), ANN_error_test[i], opt_lambda[i], log_test_error[i], base_line_test_err[i]))\n"
   ]
  },
  {
   "cell_type": "code",
   "execution_count": 45,
   "metadata": {},
   "outputs": [
    {
     "data": {
      "text/plain": [
       "array([22., 22., 22., 22., 21., 21., 21., 21., 21., 21.])"
      ]
     },
     "execution_count": 45,
     "metadata": {},
     "output_type": "execute_result"
    }
   ],
   "source": [
    "n_list"
   ]
  },
  {
   "cell_type": "code",
   "execution_count": 43,
   "metadata": {},
   "outputs": [],
   "source": [
    "\n",
    "import pandas as pd\n",
    "\n",
    "table = np.array([n_list, opt_h, ANN_error_test, opt_lambda, log_test_error, base_line_test_err])\n",
    "\n",
    "df = pd.DataFrame(np.transpose(table))\n",
    "\n",
    "df.to_csv('classification_results.csv', index = False, header = [\"test_size\", \"h\", \"ANN\", \"lambda\", \"Log\", \"Base\"])\n",
    "\n"
   ]
  },
  {
   "cell_type": "code",
   "execution_count": 1,
   "metadata": {},
   "outputs": [
    {
     "ename": "NameError",
     "evalue": "name 'plt' is not defined",
     "output_type": "error",
     "traceback": [
      "\u001b[0;31m---------------------------------------------------------------------------\u001b[0m",
      "\u001b[0;31mNameError\u001b[0m                                 Traceback (most recent call last)",
      "\u001b[1;32m/Users/nikolaj/Desktop/GIT/MLDM-Assignment-2/classification.ipynb Cell 9\u001b[0m in \u001b[0;36m<cell line: 1>\u001b[0;34m()\u001b[0m\n\u001b[0;32m----> <a href='vscode-notebook-cell:/Users/nikolaj/Desktop/GIT/MLDM-Assignment-2/classification.ipynb#X11sZmlsZQ%3D%3D?line=0'>1</a>\u001b[0m plt\u001b[39m.\u001b[39mplot(ANN_error_test)\n\u001b[1;32m      <a href='vscode-notebook-cell:/Users/nikolaj/Desktop/GIT/MLDM-Assignment-2/classification.ipynb#X11sZmlsZQ%3D%3D?line=1'>2</a>\u001b[0m plt\u001b[39m.\u001b[39mplot(log_test_error)\n\u001b[1;32m      <a href='vscode-notebook-cell:/Users/nikolaj/Desktop/GIT/MLDM-Assignment-2/classification.ipynb#X11sZmlsZQ%3D%3D?line=2'>3</a>\u001b[0m plt\u001b[39m.\u001b[39mplot(base_line_test_err)\n",
      "\u001b[0;31mNameError\u001b[0m: name 'plt' is not defined"
     ]
    }
   ],
   "source": [
    "plt.plot(ANN_error_test)\n",
    "plt.plot(log_test_error)\n",
    "plt.plot(base_line_test_err)\n",
    "#plt.axhline(0.5,color='red')\n",
    "plt.legend(['ANN', 'Log', 'Base'])"
   ]
  },
  {
   "cell_type": "code",
   "execution_count": null,
   "metadata": {},
   "outputs": [],
   "source": []
  },
  {
   "cell_type": "markdown",
   "metadata": {},
   "source": [
    "LOOGISTIC REGRESSION (5c)"
   ]
  },
  {
   "cell_type": "code",
   "execution_count": 2,
   "metadata": {},
   "outputs": [],
   "source": [
    "# Imports :\n",
    "import matplotlib.pyplot as plt\n",
    "#plt.style.use('fivethirtyeight')\n",
    "import numpy as np\n",
    "import pandas as pd\n",
    "from sklearn.linear_model import LogisticRegression\n",
    "from sklearn import model_selection"
   ]
  },
  {
   "cell_type": "code",
   "execution_count": 3,
   "metadata": {},
   "outputs": [],
   "source": [
    "# loading data\n",
    "filename = 'data/glass.csv'\n",
    "df = pd.read_csv(filename)\n",
    "\n",
    "# defining x and y for the linear regression\n",
    "#       all attributes except RI\n",
    "X = np.array(df.iloc[:,1:10])\n",
    "#       number of attributes\n",
    "M = 9\n",
    "#       type\n",
    "y = np.array(df.iloc[:,10])"
   ]
  },
  {
   "cell_type": "code",
   "execution_count": 4,
   "metadata": {},
   "outputs": [
    {
     "name": "stdout",
     "output_type": "stream",
     "text": [
      "[1 1 1 1 1 1 1 1 1 1 1 1 1 1 1 1 1 1 1 1 1 1 1 1 1 1 1 1 1 1 1 1 1 1 1 1 1\n",
      " 1 1 1 1 1 1 1 1 1 1 1 1 1 1 1 1 1 1 1 1 1 1 1 1 1 1 1 1 1 1 1 1 1 2 2 2 2\n",
      " 2 2 2 2 2 2 2 2 2 2 2 2 2 2 2 2 2 2 2 2 2 2 2 2 2 2 2 2 2 2 2 2 2 2 2 2 2\n",
      " 2 2 2 2 2 2 2 2 2 2 2 2 2 2 2 2 2 2 2 2 2 2 2 2 2 2 2 2 2 2 2 2 2 2 2 3 3\n",
      " 3 3 3 3 3 3 3 3 3 3 3 3 3 3 3 5 5 5 5 5 5 5 5 5 5 5 5 5 6 6 6 6 6 6 6 6 6\n",
      " 7 7 7 7 7 7 7 7 7 7 7 7 7 7 7 7 7 7 7 7 7 7 7 7 7 7 7 7 7]\n",
      "[0 0 0 0 0 0 0 0 0 0 0 0 0 0 0 0 0 0 0 0 0 0 0 0 0 0 0 0 0 0 0 0 0 0 0 0 0\n",
      " 0 0 0 0 0 0 0 0 0 0 0 0 0 0 0 0 0 0 0 0 0 0 0 0 0 0 0 0 0 0 0 0 0 1 1 1 1\n",
      " 1 1 1 1 1 1 1 1 1 1 1 1 1 1 1 1 1 1 1 1 1 1 1 1 1 1 1 1 1 1 1 1 1 1 1 1 1\n",
      " 1 1 1 1 1 1 1 1 1 1 1 1 1 1 1 1 1 1 1 1 1 1 1 1 1 1 1 1 1 1 1 1 1 1 1 2 2\n",
      " 2 2 2 2 2 2 2 2 2 2 2 2 2 2 2 3 3 3 3 3 3 3 3 3 3 3 3 3 4 4 4 4 4 4 4 4 4\n",
      " 5 5 5 5 5 5 5 5 5 5 5 5 5 5 5 5 5 5 5 5 5 5 5 5 5 5 5 5 5]\n"
     ]
    }
   ],
   "source": [
    "# the format of C needs to be this, so it is usable with torch, see before and after:\n",
    "print(y)\n",
    "y[y>3] = y[y>3] - 1\n",
    "y = y - 1\n",
    "print(y)"
   ]
  },
  {
   "cell_type": "code",
   "execution_count": 22,
   "metadata": {},
   "outputs": [
    {
     "name": "stderr",
     "output_type": "stream",
     "text": [
      "/Users/nikolaj/opt/anaconda3/envs/AndSem/lib/python3.8/site-packages/sklearn/linear_model/_logistic.py:814: ConvergenceWarning: lbfgs failed to converge (status=1):\n",
      "STOP: TOTAL NO. of f AND g EVALUATIONS EXCEEDS LIMIT.\n",
      "\n",
      "Increase the number of iterations (max_iter) or scale the data as shown in:\n",
      "    https://scikit-learn.org/stable/modules/preprocessing.html\n",
      "Please also refer to the documentation for alternative solver options:\n",
      "    https://scikit-learn.org/stable/modules/linear_model.html#logistic-regression\n",
      "  n_iter_i = _check_optimize_result(\n"
     ]
    }
   ],
   "source": [
    "K_outer = 5\n",
    "\n",
    "\n",
    "lambda_interval = np.logspace(-8, 2, 20)\n",
    "log_train_error = np.zeros(K_outer)\n",
    "log_test_error = np.zeros(K_outer)\n",
    "\n",
    "opt_lambda = np.zeros(K_outer)\n",
    "\n",
    "max_iter = 100000\n",
    "\n",
    "\n",
    "cv_outer = model_selection.KFold(n_splits=K_outer,shuffle=True)\n",
    "\n",
    "for i, (train_index, test_index) in enumerate(cv_outer.split(X = X,y = y)):\n",
    "    X_train, X_test = X[train_index, :], X[test_index, :]\n",
    "    y_train, y_test = y[train_index], y[test_index]\n",
    "\n",
    "    # standardize\n",
    "    mu, sigma = np.mean(X_train), np.std(X_train)\n",
    "    X_train, X_test = (X_train - mu)/sigma, (X_test - mu)/sigma\n",
    "\n",
    "    # finding the best lambda (rlr validate but with logistic regression)\n",
    "    K_inner = 5\n",
    "\n",
    "    lambda_error_train = np.zeros((K_inner, len(lambda_interval)))\n",
    "    lambda_error_test = np.zeros((K_inner, len(lambda_interval)))\n",
    "\n",
    "\n",
    "    cv_inner = model_selection.KFold(n_splits=K_inner,shuffle=True)\n",
    "    for j, (train_index_inner, test_index_inner) in enumerate(cv_outer.split(X = X_train,y = y_train)):\n",
    "        X_train_inner, X_test_inner = X[train_index_inner, :], X[test_index_inner, :]\n",
    "        y_train_inner, y_test_inner = y[train_index_inner], y[test_index_inner]\n",
    "\n",
    "\n",
    "        for k in range(0, len(lambda_interval)):\n",
    "            #'newton-cg' gives better results\n",
    "            #mdl = LogisticRegression(penalty='l2', solver='newton-cg', C=1/lambda_interval[k], max_iter=100)\n",
    "            # but the other is faster but outputs hella lot of warnings:\n",
    "            mdl = LogisticRegression(penalty='l2', C=1/lambda_interval[k], max_iter=max_iter)\n",
    "            \n",
    "            mdl.fit(X_train_inner, y_train_inner)\n",
    "\n",
    "            y_train_est_inner = mdl.predict(X_train_inner).T\n",
    "            y_test_est_inner = mdl.predict(X_test_inner).T\n",
    "            \n",
    "            lambda_error_train[j,k] = np.sum(y_train_est_inner != y_train_inner) / len(y_train_inner)\n",
    "            lambda_error_test[j,k] = np.sum(y_test_est_inner != y_test_inner) / len(y_test_inner)\n",
    "\n",
    "    opt_lambda[i] = lambda_interval[np.argmin(np.mean(lambda_error_test, axis = 0))]\n",
    "\n",
    "    train_err_vs_lambda = np.mean(lambda_error_train,axis=0)\n",
    "    test_err_vs_lambda = np.mean(lambda_error_test,axis=0)\n",
    "\n",
    "    log = LogisticRegression(penalty='l2', C=1/opt_lambda[i], max_iter=max_iter)\n",
    "    log.fit(X_train, y_train)\n",
    "    y_train_est = log.predict(X_train)\n",
    "    y_test_est_log = log.predict(X_test)\n",
    "\n",
    "    log_train_error[i] = np.sum(y_train_est != y_train)/len(y_train)\n",
    "    log_test_error[i] = np.sum(y_test_est_log != y_test)/len(y_test)"
   ]
  },
  {
   "cell_type": "code",
   "execution_count": 20,
   "metadata": {},
   "outputs": [
    {
     "name": "stdout",
     "output_type": "stream",
     "text": [
      "[0.39534884 0.41860465 0.39534884 0.37209302 0.4047619 ]\n"
     ]
    },
    {
     "data": {
      "image/png": "[encoded data removed]",
      "text/plain": [
       "<Figure size 432x288 with 1 Axes>"
      ]
     },
     "metadata": {
      "needs_background": "light"
     },
     "output_type": "display_data"
    }
   ],
   "source": [
    "plt.plot(log_test_error)\n",
    "print(log_test_error)"
   ]
  },
  {
   "cell_type": "code",
   "execution_count": null,
   "metadata": {},
   "outputs": [],
   "source": [
    "plt.plot(lambda_interval, train_err_vs_lambda, 'r')\n",
    "plt.plot(lambda_interval, test_err_vs_lambda, 'b')\n",
    "plt.show()"
   ]
  },
  {
   "cell_type": "code",
   "execution_count": 21,
   "metadata": {},
   "outputs": [
    {
     "data": {
      "text/plain": [
       "array([2.15443469e-05, 1.66810054e-06, 1.00000000e-08, 4.64158883e-02,\n",
       "       1.00000000e-08])"
      ]
     },
     "execution_count": 21,
     "metadata": {},
     "output_type": "execute_result"
    }
   ],
   "source": [
    "opt_lambda"
   ]
  },
  {
   "cell_type": "code",
   "execution_count": null,
   "metadata": {},
   "outputs": [],
   "source": []
  }
 ],
 "metadata": {
  "kernelspec": {
   "display_name": "Python 3.8.2 ('AndSem')",
   "language": "python",
   "name": "python3"
  },
  "language_info": {
   "codemirror_mode": {
    "name": "ipython",
    "version": 3
   },
   "file_extension": ".py",
   "mimetype": "text/x-python",
   "name": "python",
   "nbconvert_exporter": "python",
   "pygments_lexer": "ipython3",
   "version": "3.8.2"
  },
  "orig_nbformat": 4,
  "vscode": {
   "interpreter": {
    "hash": "d62badb4c3b216db4db7804bb7696037312a1bbdb2c7465cfb03cc785a825525"
   }
  }
 },
 "nbformat": 4,
 "nbformat_minor": 2
}
